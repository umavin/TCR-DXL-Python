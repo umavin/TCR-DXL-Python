{
 "cells": [
  {
   "cell_type": "code",
   "execution_count": 2,
   "id": "b6423815-f4ec-491b-8178-d5c85ae87837",
   "metadata": {},
   "outputs": [],
   "source": [
    "import sympy as sym\n",
    "from sympy.physics.vector import init_vprinting\n",
    "from sympy.physics.mechanics import dynamicsymbols\n"
   ]
  },
  {
   "cell_type": "code",
   "execution_count": 3,
   "id": "381376dc-5ac1-4dfd-9896-fb87d5d035c1",
   "metadata": {},
   "outputs": [
    {
     "data": {
      "text/plain": [
       "(delX(t), delY(t), delL(t), d(t))"
      ]
     },
     "execution_count": 3,
     "metadata": {},
     "output_type": "execute_result"
    }
   ],
   "source": [
    "#sym.init_printing()\n",
    "delX1,delY1,delL1,d,delX2,delY2,delL2 = dynamicsymbols('delX,delY,delL,d,delX2,delY2,delL2')\n",
    "delDet1 = sym.sqrt(delX1*delX1+delY1*delY1)\n",
    "delDet1 = sym.sqrt(delX1*delX1+delY1*delY1)\n",
    "cdet = sym.cos(delDet/d)\n",
    "sdet = sym.sin(delDet/d)\n",
    "ndelX = delX/delDet\n",
    "ndelY = delY/delDet\n",
    "\n",
    "delX,delY,delL,d"
   ]
  },
  {
   "cell_type": "code",
   "execution_count": null,
   "id": "bf2a6a14-6436-4221-99c2-fc3ef174bd65",
   "metadata": {},
   "outputs": [],
   "source": []
  }
 ],
 "metadata": {
  "kernelspec": {
   "display_name": "Python 3 (ipykernel)",
   "language": "python",
   "name": "python3"
  },
  "language_info": {
   "codemirror_mode": {
    "name": "ipython",
    "version": 3
   },
   "file_extension": ".py",
   "mimetype": "text/x-python",
   "name": "python",
   "nbconvert_exporter": "python",
   "pygments_lexer": "ipython3",
   "version": "3.12.2"
  }
 },
 "nbformat": 4,
 "nbformat_minor": 5
}
